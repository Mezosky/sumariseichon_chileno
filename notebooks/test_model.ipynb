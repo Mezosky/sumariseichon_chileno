{
 "cells": [
  {
   "cell_type": "code",
   "execution_count": null,
   "id": "4f3c0e18",
   "metadata": {},
   "outputs": [],
   "source": [
    "# Importing libraries\n",
    "import os\n",
    "import logging\n",
    "import numpy as np\n",
    "import pandas as pd\n",
    "import torch\n",
    "from torch import cuda\n",
    "import torch.nn.functional as F\n",
    "from torch.utils.data import Dataset, DataLoader, RandomSampler, SequentialSampler\n",
    "import os\n",
    "\n",
    "# Importing the mT5 modules from huggingface/transformers\n",
    "from transformers import T5Tokenizer, MT5Model, MT5Config, MT5ForConditionalGeneration, AutoModelForSeq2SeqLM"
   ]
  },
  {
   "cell_type": "code",
   "execution_count": null,
   "id": "8309991c",
   "metadata": {},
   "outputs": [],
   "source": [
    "rng = 42\n",
    "\n",
    "# Set random seeds and deterministic pytorch for reproducibility\n",
    "torch.manual_seed(rng)\n",
    "np.random.seed(rng) \n",
    "torch.backends.cudnn.deterministic = True"
   ]
  },
  {
   "cell_type": "code",
   "execution_count": null,
   "id": "4e9b7b44",
   "metadata": {},
   "outputs": [],
   "source": [
    "path = '/data/imeza/text_datasets/outputs_mT5/model_files/4'\n",
    "\n",
    "#config = MT5Config.from_pretrained(path)\n",
    "#model = MT5ForConditionalGeneration.from_pretrained(path)\n",
    "model = AutoModelForSeq2SeqLM.from_pretrained(path)\n",
    "tokenizer = T5Tokenizer.from_pretrained(path)"
   ]
  },
  {
   "cell_type": "code",
   "execution_count": null,
   "id": "218dbabb",
   "metadata": {},
   "outputs": [],
   "source": [
    "text = \"\"\"\n",
    "La Secretaria Ejecutiva de Fundación PIDEE (Fundación de Protección a la Infancia Dañada por los Estados de Emergencia) Vivian Murúa, afirmó que al día de hoy existen transgresiones a los derechos de niños, niñas y adolescentes (NNA) y que la ley de garantías y protección integral de los derechos de la niñez y adolescencia, no está en su plena aplicación ya que sólo entró en vigencia en marzo de este año.\n",
    "En el marco del Día Internacional de los Derechos Humanos, Murúa afirmó que “hay transgresiones en todas esas áreas, sobre todo para NNA. Tengamos presente que Chile recién tenemos una Ley de Garantías ahora en marzo de 2022, a pesar que el país había ratificado la Convención sobre los Derechos del Niño en el año 1990. Recién en marzo de este año se promulga la Ley sobre garantía y protección integral de los niños, niñas y adolescentes. Ahora, esa ley hay que ver cómo se va a hacer carne en todos los ministerios y en todas las fuerzas sociales y estatales que tiene que ver con garantizar los derechos de la niñez. Pero hasta la fecha vemos que no hay garantías reales”.\n",
    "Indicó que como fundación ligada a la promoción y protección de los Derechos Humanos de NNA, “seguimos con causas de jóvenes que fueron agredidos violentamente por agentes del Estado durante la revuelta y están casi todos detenidos, están  las causas pendientes, pero Carabineros de Chile ha sido constante en no presentar evidencias, en no ir y ha sido muy lento el proceso, pero seguimos adelante”.\n",
    "Murúa recordó que el PIDEE desde el 2019 abrió un área jurídica en la que se entrega apoyo a familias cuyos hijos e hijas han sido vulnerados por agentes del Estado desde el estallido social. Entre los casos más relevantes está el de Geraldine Alvarado, adolescente que recibió el impacto de una bomba lacrimógena en su cabeza el 10 de Diciembre de 2019, quien estuvo al borde de la muerte y que aún tiene secuelas tras el impacto.\n",
    "La joven “ya cumplió sus 18 años y en este momento se está viendo la posibilidad de recibir indemnización a través del INDH, pero no está claro qué sucede ahí. Ha sido difícil para Geraldine poder integrarse a la sociedad, tuvo que aprender a caminar y a hablar, con lo que eso significa en una ciudad con todos los problemas físicos (…) ha sido un proceso difícil, pero tiene el apoyo de su papá, del PIDEE y es un caso que está pendiente y aún no hay una solución, búsqueda y castigo de los culpables”, señaló la profesional.\n",
    "Finalmente, Murúa indicó que el Día Internacional por los Derechos Humanos, es “importante para poder rescatar y poner en relieve lo que son los derechos humanos. En el caso de la niñez, nosotros en este momento estamos iniciando un trabajo formativo en dos comunas de Santiago en el tema de los DDHH. Vamos a trabajar con niños, profesores y dirigentes sociales en la idea de forma poder formar garantes ligados a la defensa y protección de los derechos humanos, principalmente ligado a los NNA”.\n",
    "La representante recordó que el “PIDEE nace el año 1979 ante la demanda de las familias afectadas por las violaciones de los Derechos Humanos durante la dictadura militar para entregar asistencia a las y los niños afectados por trastornos derivados de la situación que vivían en las áreas de salud mental y física, educacional y cultural, además de satisfacer sus necesidades básicas de sobrevivencia”.\n",
    "Murúa agregó que “desde la creación de la Fundación PIDEE se llevó un registro de la atención a niños, niñas, adolescentes y sus familias. Estos registros constan de relatos directos, testimonios, dibujos e información de prensa que complementa y certifica, además, la situación represiva vivida por cada niño, niña y su familia”, destaca el organismo.\n",
    "Añade que “en el año 2003 la UNESCO inscribió los archivos de la Fundación PIDEE en el registro Memoria del Mundo, tras una sistematización de la documentación generada en atención y asistencia de la infancia. La información fue digitalizada y destinada al Museo de la Memoria de los Derechos Humanos, incluyendo documentos originales”.\n",
    "\"\"\"\n",
    "\n",
    "tokenized_text = tokenizer.encode(text, return_tensors=\"pt\")\n",
    "\n",
    "summary_ids = model.generate(\n",
    "    tokenized_text,\n",
    "    max_length=150, \n",
    "    num_beams=2,\n",
    "    repetition_penalty=2.5, \n",
    "    length_penalty=2.0, \n",
    "    early_stopping=True\n",
    ")\n",
    "\n",
    "output = tokenizer.decode(summary_ids[0], \n",
    "                          skip_special_tokens=True).replace(\"<extra_id_0>\", \"\")\n",
    "\n",
    "print(output)"
   ]
  },
  {
   "cell_type": "code",
   "execution_count": null,
   "id": "9e58c772",
   "metadata": {},
   "outputs": [],
   "source": [
    "df = pd.read_parquet(\n",
    "        \"/data/imeza/text_datasets/data_summarization_with_title.parquet\"\n",
    "    )"
   ]
  },
  {
   "cell_type": "code",
   "execution_count": null,
   "id": "65b8018b",
   "metadata": {},
   "outputs": [],
   "source": [
    "(df.title == '').sum()"
   ]
  }
 ],
 "metadata": {
  "kernelspec": {
   "display_name": "nllb",
   "language": "python",
   "name": "python3"
  },
  "language_info": {
   "codemirror_mode": {
    "name": "ipython",
    "version": 3
   },
   "file_extension": ".py",
   "mimetype": "text/x-python",
   "name": "python",
   "nbconvert_exporter": "python",
   "pygments_lexer": "ipython3",
   "version": "3.10.8 (main, Nov  4 2022, 13:48:29) [GCC 11.2.0]"
  },
  "vscode": {
   "interpreter": {
    "hash": "d9df2e7b4f284ad6fa70d894d235a9c33b9c06cad9fa387ca4a85aebedf2e5cb"
   }
  }
 },
 "nbformat": 4,
 "nbformat_minor": 5
}
